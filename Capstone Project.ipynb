{
 "cells": [
  {
   "cell_type": "markdown",
   "id": "de0a604f",
   "metadata": {},
   "source": [
    "## capstone Project"
   ]
  },
  {
   "cell_type": "markdown",
   "id": "164b36f4",
   "metadata": {},
   "source": [
    "#### About the dataset\n",
    "* Human resources (HR) is the division of an organization that is responsible for finding, screening, recruiting,and training job applicants, and administering employee-benefit programs.\n"
   ]
  },
  {
   "cell_type": "markdown",
   "id": "d1c2fccc",
   "metadata": {},
   "source": [
    "#### Purpose of Performing Operations\n",
    "* We are supposed to identify how salary is varying with respect to other considerable factors.\n",
    "* The dataset should be divided into test and train and you would have to use the training data to build the model and thereby apply it to test data to measure the performance and robustness of the model.\n"
   ]
  },
  {
   "cell_type": "markdown",
   "id": "63287969",
   "metadata": {},
   "source": [
    "#### The steps we are going to perform\n",
    "* importing the required libraries and reading the datasets\n",
    "* Checking the number of variables that are normally distributed \n",
    "* Finding out the correlation between variables using spearman rank correlation \n",
    "* Examine the relationship between categorical variables and the dependent variable\n",
    "* Feature Selection for ML Algorithm\n",
    "* Apply ML algorithm to the pre-processed columns"
   ]
  },
  {
   "cell_type": "markdown",
   "id": "91034e99",
   "metadata": {},
   "source": [
    "## 1) Importing required libraries"
   ]
  },
  {
   "cell_type": "code",
   "execution_count": 90,
   "id": "c021adbb",
   "metadata": {},
   "outputs": [],
   "source": [
    "import pandas as pd\n",
    "import numpy as np\n",
    "import matplotlib.pyplot as plt\n",
    "import seaborn as sns"
   ]
  },
  {
   "cell_type": "code",
   "execution_count": 91,
   "id": "410de3c3",
   "metadata": {},
   "outputs": [],
   "source": [
    "# Reading the dataset\n",
    "df=pd.read_csv(\"C:/Users/HP/Downloads/HR_O.csv\")"
   ]
  },
  {
   "cell_type": "code",
   "execution_count": 92,
   "id": "e8cc0189",
   "metadata": {},
   "outputs": [
    {
     "data": {
      "text/html": [
       "<div>\n",
       "<style scoped>\n",
       "    .dataframe tbody tr th:only-of-type {\n",
       "        vertical-align: middle;\n",
       "    }\n",
       "\n",
       "    .dataframe tbody tr th {\n",
       "        vertical-align: top;\n",
       "    }\n",
       "\n",
       "    .dataframe thead th {\n",
       "        text-align: right;\n",
       "    }\n",
       "</style>\n",
       "<table border=\"1\" class=\"dataframe\">\n",
       "  <thead>\n",
       "    <tr style=\"text-align: right;\">\n",
       "      <th></th>\n",
       "      <th>Gender</th>\n",
       "      <th>Business</th>\n",
       "      <th>Dependancies</th>\n",
       "      <th>Calls</th>\n",
       "      <th>Type</th>\n",
       "      <th>Billing</th>\n",
       "      <th>Rating</th>\n",
       "      <th>Age</th>\n",
       "      <th>Salary</th>\n",
       "      <th>Base_pay</th>\n",
       "      <th>Bonus</th>\n",
       "      <th>Unit_Price</th>\n",
       "      <th>Volume</th>\n",
       "      <th>openingbalance</th>\n",
       "      <th>closingbalance</th>\n",
       "      <th>low</th>\n",
       "      <th>Unit_Sales</th>\n",
       "      <th>Total_Sales</th>\n",
       "      <th>Months</th>\n",
       "      <th>Education</th>\n",
       "    </tr>\n",
       "  </thead>\n",
       "  <tbody>\n",
       "    <tr>\n",
       "      <th>0</th>\n",
       "      <td>Female</td>\n",
       "      <td>0</td>\n",
       "      <td>No</td>\n",
       "      <td>Yes</td>\n",
       "      <td>Month-to-month</td>\n",
       "      <td>No</td>\n",
       "      <td>Yes</td>\n",
       "      <td>18</td>\n",
       "      <td>5089.00</td>\n",
       "      <td>2035.600</td>\n",
       "      <td>254.4500</td>\n",
       "      <td>3.77</td>\n",
       "      <td>21226600</td>\n",
       "      <td>3.75</td>\n",
       "      <td>3.76</td>\n",
       "      <td>3.65</td>\n",
       "      <td>18.25</td>\n",
       "      <td>18.8</td>\n",
       "      <td>0</td>\n",
       "      <td>High School or less</td>\n",
       "    </tr>\n",
       "    <tr>\n",
       "      <th>1</th>\n",
       "      <td>Female</td>\n",
       "      <td>0</td>\n",
       "      <td>No</td>\n",
       "      <td>Yes</td>\n",
       "      <td>Month-to-month</td>\n",
       "      <td>No</td>\n",
       "      <td>Yes</td>\n",
       "      <td>19</td>\n",
       "      <td>5698.12</td>\n",
       "      <td>2279.248</td>\n",
       "      <td>284.9060</td>\n",
       "      <td>3.74</td>\n",
       "      <td>10462800</td>\n",
       "      <td>3.85</td>\n",
       "      <td>3.68</td>\n",
       "      <td>3.65</td>\n",
       "      <td>18.40</td>\n",
       "      <td>18.85</td>\n",
       "      <td>0</td>\n",
       "      <td>High School or less</td>\n",
       "    </tr>\n",
       "    <tr>\n",
       "      <th>2</th>\n",
       "      <td>Male</td>\n",
       "      <td>0</td>\n",
       "      <td>No</td>\n",
       "      <td>Yes</td>\n",
       "      <td>Month-to-month</td>\n",
       "      <td>Yes</td>\n",
       "      <td>No</td>\n",
       "      <td>22</td>\n",
       "      <td>5896.65</td>\n",
       "      <td>2358.660</td>\n",
       "      <td>294.8325</td>\n",
       "      <td>3.89</td>\n",
       "      <td>18761000</td>\n",
       "      <td>4.23</td>\n",
       "      <td>4.29</td>\n",
       "      <td>3.72</td>\n",
       "      <td>18.70</td>\n",
       "      <td>18.9</td>\n",
       "      <td>0</td>\n",
       "      <td>High School or less</td>\n",
       "    </tr>\n",
       "    <tr>\n",
       "      <th>3</th>\n",
       "      <td>Female</td>\n",
       "      <td>1</td>\n",
       "      <td>No</td>\n",
       "      <td>Yes</td>\n",
       "      <td>Month-to-month</td>\n",
       "      <td>Yes</td>\n",
       "      <td>Yes</td>\n",
       "      <td>21</td>\n",
       "      <td>6125.12</td>\n",
       "      <td>2450.048</td>\n",
       "      <td>306.2560</td>\n",
       "      <td>4.35</td>\n",
       "      <td>66130600</td>\n",
       "      <td>4.26</td>\n",
       "      <td>4.31</td>\n",
       "      <td>3.83</td>\n",
       "      <td>18.75</td>\n",
       "      <td>19</td>\n",
       "      <td>0</td>\n",
       "      <td>High School or less</td>\n",
       "    </tr>\n",
       "    <tr>\n",
       "      <th>4</th>\n",
       "      <td>Male</td>\n",
       "      <td>0</td>\n",
       "      <td>No</td>\n",
       "      <td>Yes</td>\n",
       "      <td>Month-to-month</td>\n",
       "      <td>Yes</td>\n",
       "      <td>Yes</td>\n",
       "      <td>23</td>\n",
       "      <td>6245.00</td>\n",
       "      <td>2498.000</td>\n",
       "      <td>312.2500</td>\n",
       "      <td>4.34</td>\n",
       "      <td>26868200</td>\n",
       "      <td>4.79</td>\n",
       "      <td>4.41</td>\n",
       "      <td>4.08</td>\n",
       "      <td>18.80</td>\n",
       "      <td>19.05</td>\n",
       "      <td>1</td>\n",
       "      <td>High School or less</td>\n",
       "    </tr>\n",
       "  </tbody>\n",
       "</table>\n",
       "</div>"
      ],
      "text/plain": [
       "   Gender  Business Dependancies Calls            Type Billing Rating  Age  \\\n",
       "0  Female         0           No   Yes  Month-to-month      No    Yes   18   \n",
       "1  Female         0           No   Yes  Month-to-month      No    Yes   19   \n",
       "2    Male         0           No   Yes  Month-to-month     Yes     No   22   \n",
       "3  Female         1           No   Yes  Month-to-month     Yes    Yes   21   \n",
       "4    Male         0           No   Yes  Month-to-month     Yes    Yes   23   \n",
       "\n",
       "    Salary  Base_pay     Bonus  Unit_Price    Volume  openingbalance  \\\n",
       "0  5089.00  2035.600  254.4500        3.77  21226600            3.75   \n",
       "1  5698.12  2279.248  284.9060        3.74  10462800            3.85   \n",
       "2  5896.65  2358.660  294.8325        3.89  18761000            4.23   \n",
       "3  6125.12  2450.048  306.2560        4.35  66130600            4.26   \n",
       "4  6245.00  2498.000  312.2500        4.34  26868200            4.79   \n",
       "\n",
       "   closingbalance   low  Unit_Sales Total_Sales  Months            Education  \n",
       "0            3.76  3.65       18.25        18.8       0  High School or less  \n",
       "1            3.68  3.65       18.40       18.85       0  High School or less  \n",
       "2            4.29  3.72       18.70        18.9       0  High School or less  \n",
       "3            4.31  3.83       18.75          19       0  High School or less  \n",
       "4            4.41  4.08       18.80       19.05       1  High School or less  "
      ]
     },
     "execution_count": 92,
     "metadata": {},
     "output_type": "execute_result"
    }
   ],
   "source": [
    "df.head()"
   ]
  },
  {
   "cell_type": "code",
   "execution_count": 93,
   "id": "944d99eb",
   "metadata": {},
   "outputs": [
    {
     "data": {
      "text/html": [
       "<div>\n",
       "<style scoped>\n",
       "    .dataframe tbody tr th:only-of-type {\n",
       "        vertical-align: middle;\n",
       "    }\n",
       "\n",
       "    .dataframe tbody tr th {\n",
       "        vertical-align: top;\n",
       "    }\n",
       "\n",
       "    .dataframe thead th {\n",
       "        text-align: right;\n",
       "    }\n",
       "</style>\n",
       "<table border=\"1\" class=\"dataframe\">\n",
       "  <thead>\n",
       "    <tr style=\"text-align: right;\">\n",
       "      <th></th>\n",
       "      <th>Gender</th>\n",
       "      <th>Business</th>\n",
       "      <th>Dependancies</th>\n",
       "      <th>Calls</th>\n",
       "      <th>Type</th>\n",
       "      <th>Billing</th>\n",
       "      <th>Rating</th>\n",
       "      <th>Age</th>\n",
       "      <th>Salary</th>\n",
       "      <th>Base_pay</th>\n",
       "      <th>Bonus</th>\n",
       "      <th>Unit_Price</th>\n",
       "      <th>Volume</th>\n",
       "      <th>openingbalance</th>\n",
       "      <th>closingbalance</th>\n",
       "      <th>low</th>\n",
       "      <th>Unit_Sales</th>\n",
       "      <th>Total_Sales</th>\n",
       "      <th>Months</th>\n",
       "      <th>Education</th>\n",
       "    </tr>\n",
       "  </thead>\n",
       "  <tbody>\n",
       "    <tr>\n",
       "      <th>4995</th>\n",
       "      <td>Female</td>\n",
       "      <td>0</td>\n",
       "      <td>No</td>\n",
       "      <td>Yes</td>\n",
       "      <td>Month-to-month</td>\n",
       "      <td>No</td>\n",
       "      <td>No</td>\n",
       "      <td>72</td>\n",
       "      <td>180696.80</td>\n",
       "      <td>72278.720</td>\n",
       "      <td>9034.840</td>\n",
       "      <td>629.511067</td>\n",
       "      <td>3927000</td>\n",
       "      <td>NaN</td>\n",
       "      <td>293.838840</td>\n",
       "      <td>310.955001</td>\n",
       "      <td>117.80</td>\n",
       "      <td></td>\n",
       "      <td>72</td>\n",
       "      <td>PG</td>\n",
       "    </tr>\n",
       "    <tr>\n",
       "      <th>4996</th>\n",
       "      <td>Male</td>\n",
       "      <td>0</td>\n",
       "      <td>No</td>\n",
       "      <td>Yes</td>\n",
       "      <td>Month-to-month</td>\n",
       "      <td>Yes</td>\n",
       "      <td>No</td>\n",
       "      <td>73</td>\n",
       "      <td>185685.90</td>\n",
       "      <td>74274.360</td>\n",
       "      <td>9284.295</td>\n",
       "      <td>627.841071</td>\n",
       "      <td>6031900</td>\n",
       "      <td>NaN</td>\n",
       "      <td>301.311314</td>\n",
       "      <td>309.610028</td>\n",
       "      <td>118.60</td>\n",
       "      <td></td>\n",
       "      <td>72</td>\n",
       "      <td>PG</td>\n",
       "    </tr>\n",
       "    <tr>\n",
       "      <th>4997</th>\n",
       "      <td>Male</td>\n",
       "      <td>0</td>\n",
       "      <td>No</td>\n",
       "      <td>Yes</td>\n",
       "      <td>Month-to-month</td>\n",
       "      <td>Yes</td>\n",
       "      <td>No</td>\n",
       "      <td>74</td>\n",
       "      <td>192636.80</td>\n",
       "      <td>77054.720</td>\n",
       "      <td>9631.840</td>\n",
       "      <td>625.860033</td>\n",
       "      <td>7949400</td>\n",
       "      <td>NaN</td>\n",
       "      <td>306.040009</td>\n",
       "      <td>303.483494</td>\n",
       "      <td>118.60</td>\n",
       "      <td></td>\n",
       "      <td>72</td>\n",
       "      <td>PG</td>\n",
       "    </tr>\n",
       "    <tr>\n",
       "      <th>4998</th>\n",
       "      <td>Male</td>\n",
       "      <td>1</td>\n",
       "      <td>No</td>\n",
       "      <td>Yes</td>\n",
       "      <td>Month-to-month</td>\n",
       "      <td>Yes</td>\n",
       "      <td>Yes</td>\n",
       "      <td>74</td>\n",
       "      <td>195970.70</td>\n",
       "      <td>78388.280</td>\n",
       "      <td>9798.535</td>\n",
       "      <td>629.510005</td>\n",
       "      <td>3908400</td>\n",
       "      <td>NaN</td>\n",
       "      <td>308.579987</td>\n",
       "      <td>312.432438</td>\n",
       "      <td>118.65</td>\n",
       "      <td></td>\n",
       "      <td>72</td>\n",
       "      <td>PG</td>\n",
       "    </tr>\n",
       "    <tr>\n",
       "      <th>4999</th>\n",
       "      <td>Male</td>\n",
       "      <td>0</td>\n",
       "      <td>Yes</td>\n",
       "      <td>Yes</td>\n",
       "      <td>Two year</td>\n",
       "      <td>Yes</td>\n",
       "      <td>No</td>\n",
       "      <td>88</td>\n",
       "      <td>199970.74</td>\n",
       "      <td>79988.296</td>\n",
       "      <td>9998.537</td>\n",
       "      <td>627.839984</td>\n",
       "      <td>6003300</td>\n",
       "      <td>NaN</td>\n",
       "      <td>312.307316</td>\n",
       "      <td>311.081089</td>\n",
       "      <td>118.75</td>\n",
       "      <td></td>\n",
       "      <td>72</td>\n",
       "      <td>PG</td>\n",
       "    </tr>\n",
       "  </tbody>\n",
       "</table>\n",
       "</div>"
      ],
      "text/plain": [
       "      Gender  Business Dependancies Calls            Type Billing Rating  Age  \\\n",
       "4995  Female         0           No   Yes  Month-to-month      No     No   72   \n",
       "4996    Male         0           No   Yes  Month-to-month     Yes     No   73   \n",
       "4997    Male         0           No   Yes  Month-to-month     Yes     No   74   \n",
       "4998    Male         1           No   Yes  Month-to-month     Yes    Yes   74   \n",
       "4999    Male         0          Yes   Yes        Two year     Yes     No   88   \n",
       "\n",
       "         Salary   Base_pay     Bonus  Unit_Price   Volume  openingbalance  \\\n",
       "4995  180696.80  72278.720  9034.840  629.511067  3927000             NaN   \n",
       "4996  185685.90  74274.360  9284.295  627.841071  6031900             NaN   \n",
       "4997  192636.80  77054.720  9631.840  625.860033  7949400             NaN   \n",
       "4998  195970.70  78388.280  9798.535  629.510005  3908400             NaN   \n",
       "4999  199970.74  79988.296  9998.537  627.839984  6003300             NaN   \n",
       "\n",
       "      closingbalance         low  Unit_Sales Total_Sales  Months Education  \n",
       "4995      293.838840  310.955001      117.80                  72        PG  \n",
       "4996      301.311314  309.610028      118.60                  72        PG  \n",
       "4997      306.040009  303.483494      118.60                  72        PG  \n",
       "4998      308.579987  312.432438      118.65                  72        PG  \n",
       "4999      312.307316  311.081089      118.75                  72        PG  "
      ]
     },
     "execution_count": 93,
     "metadata": {},
     "output_type": "execute_result"
    }
   ],
   "source": [
    "df.tail()"
   ]
  },
  {
   "cell_type": "code",
   "execution_count": 94,
   "id": "b9b79175",
   "metadata": {},
   "outputs": [
    {
     "data": {
      "text/plain": [
       "(5000, 20)"
      ]
     },
     "execution_count": 94,
     "metadata": {},
     "output_type": "execute_result"
    }
   ],
   "source": [
    "# checking shape of the data set\n",
    "df.shape"
   ]
  },
  {
   "cell_type": "code",
   "execution_count": 167,
   "id": "eccf978b",
   "metadata": {},
   "outputs": [
    {
     "data": {
      "text/html": [
       "<div>\n",
       "<style scoped>\n",
       "    .dataframe tbody tr th:only-of-type {\n",
       "        vertical-align: middle;\n",
       "    }\n",
       "\n",
       "    .dataframe tbody tr th {\n",
       "        vertical-align: top;\n",
       "    }\n",
       "\n",
       "    .dataframe thead th {\n",
       "        text-align: right;\n",
       "    }\n",
       "</style>\n",
       "<table border=\"1\" class=\"dataframe\">\n",
       "  <thead>\n",
       "    <tr style=\"text-align: right;\">\n",
       "      <th></th>\n",
       "      <th>Rating</th>\n",
       "      <th>Age</th>\n",
       "      <th>Salary</th>\n",
       "      <th>Base_pay</th>\n",
       "      <th>Bonus</th>\n",
       "      <th>Unit_Price</th>\n",
       "      <th>openingbalance</th>\n",
       "      <th>closingbalance</th>\n",
       "      <th>low</th>\n",
       "      <th>Unit_Sales</th>\n",
       "      <th>Total_Sales</th>\n",
       "      <th>Months</th>\n",
       "      <th>Education</th>\n",
       "    </tr>\n",
       "  </thead>\n",
       "  <tbody>\n",
       "    <tr>\n",
       "      <th>count</th>\n",
       "      <td>5000.000000</td>\n",
       "      <td>5000.000000</td>\n",
       "      <td>5000.000000</td>\n",
       "      <td>5000.000000</td>\n",
       "      <td>5000.000000</td>\n",
       "      <td>5000.000000</td>\n",
       "      <td>5000.000000</td>\n",
       "      <td>5000.000000</td>\n",
       "      <td>5000.000000</td>\n",
       "      <td>5000.000000</td>\n",
       "      <td>5000.000000</td>\n",
       "      <td>5000.00000</td>\n",
       "      <td>5000.000000</td>\n",
       "    </tr>\n",
       "    <tr>\n",
       "      <th>mean</th>\n",
       "      <td>0.263600</td>\n",
       "      <td>51.865000</td>\n",
       "      <td>99821.928553</td>\n",
       "      <td>39861.975243</td>\n",
       "      <td>4991.096428</td>\n",
       "      <td>3.667851</td>\n",
       "      <td>2.486784</td>\n",
       "      <td>3.526292</td>\n",
       "      <td>3.512747</td>\n",
       "      <td>4.022756</td>\n",
       "      <td>6.909255</td>\n",
       "      <td>32.18480</td>\n",
       "      <td>2.584800</td>\n",
       "    </tr>\n",
       "    <tr>\n",
       "      <th>std</th>\n",
       "      <td>0.440629</td>\n",
       "      <td>8.560691</td>\n",
       "      <td>25376.961744</td>\n",
       "      <td>10469.193447</td>\n",
       "      <td>1268.848087</td>\n",
       "      <td>0.720042</td>\n",
       "      <td>1.711988</td>\n",
       "      <td>0.689243</td>\n",
       "      <td>0.690958</td>\n",
       "      <td>0.595435</td>\n",
       "      <td>1.598747</td>\n",
       "      <td>24.63673</td>\n",
       "      <td>0.520061</td>\n",
       "    </tr>\n",
       "    <tr>\n",
       "      <th>min</th>\n",
       "      <td>0.000000</td>\n",
       "      <td>18.000000</td>\n",
       "      <td>5089.000000</td>\n",
       "      <td>0.000000</td>\n",
       "      <td>254.450000</td>\n",
       "      <td>0.364643</td>\n",
       "      <td>0.000000</td>\n",
       "      <td>1.302913</td>\n",
       "      <td>1.294727</td>\n",
       "      <td>2.904165</td>\n",
       "      <td>0.000000</td>\n",
       "      <td>0.00000</td>\n",
       "      <td>0.000000</td>\n",
       "    </tr>\n",
       "    <tr>\n",
       "      <th>25%</th>\n",
       "      <td>0.000000</td>\n",
       "      <td>47.000000</td>\n",
       "      <td>83890.338980</td>\n",
       "      <td>33556.135588</td>\n",
       "      <td>4194.516950</td>\n",
       "      <td>3.247560</td>\n",
       "      <td>0.000000</td>\n",
       "      <td>3.090588</td>\n",
       "      <td>3.078176</td>\n",
       "      <td>3.569533</td>\n",
       "      <td>5.935588</td>\n",
       "      <td>8.00000</td>\n",
       "      <td>2.000000</td>\n",
       "    </tr>\n",
       "    <tr>\n",
       "      <th>50%</th>\n",
       "      <td>0.000000</td>\n",
       "      <td>52.000000</td>\n",
       "      <td>100579.378500</td>\n",
       "      <td>40231.751415</td>\n",
       "      <td>5028.968925</td>\n",
       "      <td>3.668804</td>\n",
       "      <td>3.179124</td>\n",
       "      <td>3.506758</td>\n",
       "      <td>3.492865</td>\n",
       "      <td>4.255613</td>\n",
       "      <td>7.236375</td>\n",
       "      <td>28.00000</td>\n",
       "      <td>3.000000</td>\n",
       "    </tr>\n",
       "    <tr>\n",
       "      <th>75%</th>\n",
       "      <td>1.000000</td>\n",
       "      <td>57.000000</td>\n",
       "      <td>116912.092475</td>\n",
       "      <td>46764.836975</td>\n",
       "      <td>5845.604624</td>\n",
       "      <td>4.072695</td>\n",
       "      <td>3.750092</td>\n",
       "      <td>3.934127</td>\n",
       "      <td>3.920289</td>\n",
       "      <td>4.499254</td>\n",
       "      <td>8.222107</td>\n",
       "      <td>55.00000</td>\n",
       "      <td>3.000000</td>\n",
       "    </tr>\n",
       "    <tr>\n",
       "      <th>max</th>\n",
       "      <td>1.000000</td>\n",
       "      <td>88.000000</td>\n",
       "      <td>199970.740000</td>\n",
       "      <td>79988.296000</td>\n",
       "      <td>9998.537000</td>\n",
       "      <td>6.444943</td>\n",
       "      <td>5.749087</td>\n",
       "      <td>5.748401</td>\n",
       "      <td>5.744388</td>\n",
       "      <td>4.777020</td>\n",
       "      <td>9.069330</td>\n",
       "      <td>72.00000</td>\n",
       "      <td>3.000000</td>\n",
       "    </tr>\n",
       "  </tbody>\n",
       "</table>\n",
       "</div>"
      ],
      "text/plain": [
       "            Rating          Age         Salary      Base_pay        Bonus  \\\n",
       "count  5000.000000  5000.000000    5000.000000   5000.000000  5000.000000   \n",
       "mean      0.263600    51.865000   99821.928553  39861.975243  4991.096428   \n",
       "std       0.440629     8.560691   25376.961744  10469.193447  1268.848087   \n",
       "min       0.000000    18.000000    5089.000000      0.000000   254.450000   \n",
       "25%       0.000000    47.000000   83890.338980  33556.135588  4194.516950   \n",
       "50%       0.000000    52.000000  100579.378500  40231.751415  5028.968925   \n",
       "75%       1.000000    57.000000  116912.092475  46764.836975  5845.604624   \n",
       "max       1.000000    88.000000  199970.740000  79988.296000  9998.537000   \n",
       "\n",
       "        Unit_Price  openingbalance  closingbalance          low   Unit_Sales  \\\n",
       "count  5000.000000     5000.000000     5000.000000  5000.000000  5000.000000   \n",
       "mean      3.667851        2.486784        3.526292     3.512747     4.022756   \n",
       "std       0.720042        1.711988        0.689243     0.690958     0.595435   \n",
       "min       0.364643        0.000000        1.302913     1.294727     2.904165   \n",
       "25%       3.247560        0.000000        3.090588     3.078176     3.569533   \n",
       "50%       3.668804        3.179124        3.506758     3.492865     4.255613   \n",
       "75%       4.072695        3.750092        3.934127     3.920289     4.499254   \n",
       "max       6.444943        5.749087        5.748401     5.744388     4.777020   \n",
       "\n",
       "       Total_Sales      Months    Education  \n",
       "count  5000.000000  5000.00000  5000.000000  \n",
       "mean      6.909255    32.18480     2.584800  \n",
       "std       1.598747    24.63673     0.520061  \n",
       "min       0.000000     0.00000     0.000000  \n",
       "25%       5.935588     8.00000     2.000000  \n",
       "50%       7.236375    28.00000     3.000000  \n",
       "75%       8.222107    55.00000     3.000000  \n",
       "max       9.069330    72.00000     3.000000  "
      ]
     },
     "execution_count": 167,
     "metadata": {},
     "output_type": "execute_result"
    }
   ],
   "source": [
    "df.describe()"
   ]
  },
  {
   "cell_type": "code",
   "execution_count": 95,
   "id": "7e23e206",
   "metadata": {},
   "outputs": [
    {
     "name": "stdout",
     "output_type": "stream",
     "text": [
      "<class 'pandas.core.frame.DataFrame'>\n",
      "RangeIndex: 5000 entries, 0 to 4999\n",
      "Data columns (total 20 columns):\n",
      " #   Column          Non-Null Count  Dtype  \n",
      "---  ------          --------------  -----  \n",
      " 0   Gender          5000 non-null   object \n",
      " 1   Business        5000 non-null   int64  \n",
      " 2   Dependancies    5000 non-null   object \n",
      " 3   Calls           5000 non-null   object \n",
      " 4   Type            5000 non-null   object \n",
      " 5   Billing         5000 non-null   object \n",
      " 6   Rating          5000 non-null   object \n",
      " 7   Age             5000 non-null   int64  \n",
      " 8   Salary          5000 non-null   float64\n",
      " 9   Base_pay        4977 non-null   float64\n",
      " 10  Bonus           5000 non-null   float64\n",
      " 11  Unit_Price      5000 non-null   float64\n",
      " 12  Volume          5000 non-null   int64  \n",
      " 13  openingbalance  3524 non-null   float64\n",
      " 14  closingbalance  5000 non-null   float64\n",
      " 15  low             5000 non-null   float64\n",
      " 16  Unit_Sales      5000 non-null   float64\n",
      " 17  Total_Sales     4992 non-null   object \n",
      " 18  Months          5000 non-null   int64  \n",
      " 19  Education       5000 non-null   object \n",
      "dtypes: float64(8), int64(4), object(8)\n",
      "memory usage: 781.4+ KB\n"
     ]
    }
   ],
   "source": [
    "# checking missing values and data-types\n",
    "df.info()"
   ]
  },
  {
   "cell_type": "code",
   "execution_count": 96,
   "id": "62ff3a36",
   "metadata": {},
   "outputs": [],
   "source": [
    "# conversion of data-types to float\n",
    "df['Total_Sales'] = pd.to_numeric(df['Total_Sales'], errors = 'coerce')"
   ]
  },
  {
   "cell_type": "code",
   "execution_count": 97,
   "id": "2186aa10",
   "metadata": {},
   "outputs": [
    {
     "data": {
      "text/plain": [
       "dtype('float64')"
      ]
     },
     "execution_count": 97,
     "metadata": {},
     "output_type": "execute_result"
    }
   ],
   "source": [
    "# sanity check\n",
    "df[\"Total_Sales\"].dtype"
   ]
  },
  {
   "cell_type": "code",
   "execution_count": 98,
   "id": "fafb898f",
   "metadata": {
    "scrolled": true
   },
   "outputs": [
    {
     "data": {
      "text/plain": [
       "Gender               0\n",
       "Business             0\n",
       "Dependancies         0\n",
       "Calls                0\n",
       "Type                 0\n",
       "Billing              0\n",
       "Rating               0\n",
       "Age                  0\n",
       "Salary               0\n",
       "Base_pay            23\n",
       "Bonus                0\n",
       "Unit_Price           0\n",
       "Volume               0\n",
       "openingbalance    1476\n",
       "closingbalance       0\n",
       "low                  0\n",
       "Unit_Sales           0\n",
       "Total_Sales         16\n",
       "Months               0\n",
       "Education            0\n",
       "dtype: int64"
      ]
     },
     "execution_count": 98,
     "metadata": {},
     "output_type": "execute_result"
    }
   ],
   "source": [
    "# checking null values\n",
    "df.isnull().sum()"
   ]
  },
  {
   "cell_type": "markdown",
   "id": "d46e34cb",
   "metadata": {},
   "source": [
    "## 2)Checking the number of variables that are normally distributed"
   ]
  },
  {
   "cell_type": "code",
   "execution_count": 100,
   "id": "2e91d6c9",
   "metadata": {},
   "outputs": [],
   "source": [
    "num_col = ['Age','Salary','Base_pay','Bonus','Unit_Price','Volume','openingbalance','closingbalance','low','Unit_Sales','Total_Sales','Months']\n",
    "\n",
    "cat_col = ['Gender','Business','Dependancies','Calls','Type','Billing','Rating','Education']"
   ]
  },
  {
   "cell_type": "code",
   "execution_count": 101,
   "id": "022b1def",
   "metadata": {},
   "outputs": [
    {
     "data": {
      "image/png": "[encoded data removed]",
      "text/plain": [
       "<Figure size 432x288 with 1 Axes>"
      ]
     },
     "metadata": {
      "needs_background": "light"
     },
     "output_type": "display_data"
    },
    {
     "data": {
      "image/png": "[encoded data removed]",
      "text/plain": [
       "<Figure size 432x288 with 1 Axes>"
      ]
     },
     "metadata": {
      "needs_background": "light"
     },
     "output_type": "display_data"
    },
    {
     "data": {
      "image/png": "[encoded data removed]",
      "text/plain": [
       "<Figure size 432x288 with 1 Axes>"
      ]
     },
     "metadata": {
      "needs_background": "light"
     },
     "output_type": "display_data"
    },
    {
     "data": {
      "image/png": "[encoded data removed]",
      "text/plain": [
       "<Figure size 432x288 with 1 Axes>"
      ]
     },
     "metadata": {
      "needs_background": "light"
     },
     "output_type": "display_data"
    },
    {
     "data": {
      "image/png": "[encoded data removed]",
      "text/plain": [
       "<Figure size 432x288 with 1 Axes>"
      ]
     },
     "metadata": {
      "needs_background": "light"
     },
     "output_type": "display_data"
    },
    {
     "data": {
      "image/png": "[encoded data removed]",
      "text/plain": [
       "<Figure size 432x288 with 1 Axes>"
      ]
     },
     "metadata": {
      "needs_background": "light"
     },
     "output_type": "display_data"
    },
    {
     "data": {
      "image/png": "[encoded data removed]",
      "text/plain": [
       "<Figure size 432x288 with 1 Axes>"
      ]
     },
     "metadata": {
      "needs_background": "light"
     },
     "output_type": "display_data"
    },
    {
     "data": {
      "image/png": "[encoded data removed]",
      "text/plain": [
       "<Figure size 432x288 with 1 Axes>"
      ]
     },
     "metadata": {
      "needs_background": "light"
     },
     "output_type": "display_data"
    },
    {
     "data": {
      "image/png": "[encoded data removed]",
      "text/plain": [
       "<Figure size 432x288 with 1 Axes>"
      ]
     },
     "metadata": {
      "needs_background": "light"
     },
     "output_type": "display_data"
    },
    {
     "data": {
      "image/png": "[encoded data removed]",
      "text/plain": [
       "<Figure size 432x288 with 1 Axes>"
      ]
     },
     "metadata": {
      "needs_background": "light"
     },
     "output_type": "display_data"
    },
    {
     "data": {
      "image/png": "[encoded data removed]",
      "text/plain": [
       "<Figure size 432x288 with 1 Axes>"
      ]
     },
     "metadata": {
      "needs_background": "light"
     },
     "output_type": "display_data"
    },
    {
     "data": {
      "image/png": "[encoded data removed]",
      "text/plain": [
       "<Figure size 432x288 with 1 Axes>"
      ]
     },
     "metadata": {
      "needs_background": "light"
     },
     "output_type": "display_data"
    }
   ],
   "source": [
    "for feature in num_col:\n",
    "    sns.histplot(df[feature], kde=True)\n",
    "    plt.show()"
   ]
  },
  {
   "cell_type": "code",
   "execution_count": 102,
   "id": "0c4232b6",
   "metadata": {},
   "outputs": [
    {
     "data": {
      "image/png": "[encoded data removed]",
      "text/plain": [
       "<Figure size 432x288 with 1 Axes>"
      ]
     },
     "metadata": {
      "needs_background": "light"
     },
     "output_type": "display_data"
    }
   ],
   "source": [
    "# applying log tranformation on skewed variable\n",
    "\n",
    "skw_num_var = ['Unit_Price','Volume','openingbalance','closingbalance','low','Unit_Sales','Total_Sales','Months']\n",
    "\n",
    "#for sanity check, plotting histogram for unit price \n",
    "df['Unit_Price']=np.log(df['Unit_Price'])\n",
    "sns.histplot(df['Unit_Price'], kde=True)\n",
    "plt.show()\n"
   ]
  },
  {
   "cell_type": "code",
   "execution_count": 103,
   "id": "019f527b",
   "metadata": {},
   "outputs": [
    {
     "data": {
      "image/png": "[encoded data removed]",
      "text/plain": [
       "<Figure size 432x288 with 1 Axes>"
      ]
     },
     "metadata": {
      "needs_background": "light"
     },
     "output_type": "display_data"
    }
   ],
   "source": [
    "df['openingbalance']=np.log(df['openingbalance'])\n",
    "sns.histplot(df['openingbalance'], kde=True)\n",
    "plt.show()"
   ]
  },
  {
   "cell_type": "code",
   "execution_count": 104,
   "id": "fa9d311b",
   "metadata": {},
   "outputs": [
    {
     "data": {
      "image/png": "[encoded data removed]",
      "text/plain": [
       "<Figure size 432x288 with 1 Axes>"
      ]
     },
     "metadata": {
      "needs_background": "light"
     },
     "output_type": "display_data"
    }
   ],
   "source": [
    "df['closingbalance']=np.log(df['closingbalance'])\n",
    "sns.histplot(df['closingbalance'], kde=True)\n",
    "plt.show()"
   ]
  },
  {
   "cell_type": "code",
   "execution_count": 105,
   "id": "8b9f2c9c",
   "metadata": {},
   "outputs": [
    {
     "data": {
      "image/png": "[encoded data removed]",
      "text/plain": [
       "<Figure size 432x288 with 1 Axes>"
      ]
     },
     "metadata": {
      "needs_background": "light"
     },
     "output_type": "display_data"
    }
   ],
   "source": [
    "df['low']=np.log(df['low'])\n",
    "sns.histplot(df['low'], kde=True)\n",
    "plt.show()"
   ]
  },
  {
   "cell_type": "code",
   "execution_count": 106,
   "id": "1c4a0042",
   "metadata": {},
   "outputs": [
    {
     "data": {
      "image/png": "[encoded data removed]",
      "text/plain": [
       "<Figure size 432x288 with 1 Axes>"
      ]
     },
     "metadata": {
      "needs_background": "light"
     },
     "output_type": "display_data"
    }
   ],
   "source": [
    "df['Unit_Sales']=np.log(df['Unit_Sales'])\n",
    "sns.histplot(df['Unit_Sales'], kde=True)\n",
    "plt.show()"
   ]
  },
  {
   "cell_type": "code",
   "execution_count": 107,
   "id": "76b38a10",
   "metadata": {},
   "outputs": [
    {
     "data": {
      "image/png": "[encoded data removed]",
      "text/plain": [
       "<Figure size 432x288 with 1 Axes>"
      ]
     },
     "metadata": {
      "needs_background": "light"
     },
     "output_type": "display_data"
    }
   ],
   "source": [
    "df['Total_Sales']=np.log(df['Total_Sales'])\n",
    "sns.histplot(df['Total_Sales'], kde=True)\n",
    "plt.show()"
   ]
  },
  {
   "cell_type": "code",
   "execution_count": null,
   "id": "9702b158",
   "metadata": {},
   "outputs": [],
   "source": []
  },
  {
   "cell_type": "markdown",
   "id": "248d8646",
   "metadata": {},
   "source": [
    "## 3)Finding out the correlation between variables using spearman rank correlation"
   ]
  },
  {
   "cell_type": "markdown",
   "id": "1dd64759",
   "metadata": {},
   "source": [
    "#### what does spearman's rank relation do, Spearman's rank correlation coefficient measures the degree of similarity between two rankings, and can be used to assess the significance of the relation between them."
   ]
  },
  {
   "cell_type": "code",
   "execution_count": 109,
   "id": "55516fa0",
   "metadata": {},
   "outputs": [],
   "source": [
    "corr= df.corr(method='spearman').round(2)"
   ]
  },
  {
   "cell_type": "code",
   "execution_count": 110,
   "id": "96aa9290",
   "metadata": {},
   "outputs": [
    {
     "data": {
      "text/html": [
       "<div>\n",
       "<style scoped>\n",
       "    .dataframe tbody tr th:only-of-type {\n",
       "        vertical-align: middle;\n",
       "    }\n",
       "\n",
       "    .dataframe tbody tr th {\n",
       "        vertical-align: top;\n",
       "    }\n",
       "\n",
       "    .dataframe thead th {\n",
       "        text-align: right;\n",
       "    }\n",
       "</style>\n",
       "<table border=\"1\" class=\"dataframe\">\n",
       "  <thead>\n",
       "    <tr style=\"text-align: right;\">\n",
       "      <th></th>\n",
       "      <th>Business</th>\n",
       "      <th>Age</th>\n",
       "      <th>Salary</th>\n",
       "      <th>Base_pay</th>\n",
       "      <th>Bonus</th>\n",
       "      <th>Unit_Price</th>\n",
       "      <th>Volume</th>\n",
       "      <th>openingbalance</th>\n",
       "      <th>closingbalance</th>\n",
       "      <th>low</th>\n",
       "      <th>Unit_Sales</th>\n",
       "      <th>Total_Sales</th>\n",
       "      <th>Months</th>\n",
       "    </tr>\n",
       "  </thead>\n",
       "  <tbody>\n",
       "    <tr>\n",
       "      <th>Business</th>\n",
       "      <td>1.00</td>\n",
       "      <td>-0.01</td>\n",
       "      <td>-0.02</td>\n",
       "      <td>-0.02</td>\n",
       "      <td>-0.02</td>\n",
       "      <td>-0.02</td>\n",
       "      <td>-0.00</td>\n",
       "      <td>0.00</td>\n",
       "      <td>-0.01</td>\n",
       "      <td>-0.02</td>\n",
       "      <td>-0.02</td>\n",
       "      <td>-0.02</td>\n",
       "      <td>-0.01</td>\n",
       "    </tr>\n",
       "    <tr>\n",
       "      <th>Age</th>\n",
       "      <td>-0.01</td>\n",
       "      <td>1.00</td>\n",
       "      <td>0.20</td>\n",
       "      <td>0.19</td>\n",
       "      <td>0.20</td>\n",
       "      <td>0.13</td>\n",
       "      <td>-0.04</td>\n",
       "      <td>0.07</td>\n",
       "      <td>0.44</td>\n",
       "      <td>0.20</td>\n",
       "      <td>0.20</td>\n",
       "      <td>0.20</td>\n",
       "      <td>0.22</td>\n",
       "    </tr>\n",
       "    <tr>\n",
       "      <th>Salary</th>\n",
       "      <td>-0.02</td>\n",
       "      <td>0.20</td>\n",
       "      <td>1.00</td>\n",
       "      <td>1.00</td>\n",
       "      <td>1.00</td>\n",
       "      <td>0.81</td>\n",
       "      <td>-0.39</td>\n",
       "      <td>0.30</td>\n",
       "      <td>0.35</td>\n",
       "      <td>1.00</td>\n",
       "      <td>1.00</td>\n",
       "      <td>1.00</td>\n",
       "      <td>0.60</td>\n",
       "    </tr>\n",
       "    <tr>\n",
       "      <th>Base_pay</th>\n",
       "      <td>-0.02</td>\n",
       "      <td>0.19</td>\n",
       "      <td>1.00</td>\n",
       "      <td>1.00</td>\n",
       "      <td>1.00</td>\n",
       "      <td>0.81</td>\n",
       "      <td>-0.39</td>\n",
       "      <td>0.29</td>\n",
       "      <td>0.34</td>\n",
       "      <td>1.00</td>\n",
       "      <td>1.00</td>\n",
       "      <td>1.00</td>\n",
       "      <td>0.60</td>\n",
       "    </tr>\n",
       "    <tr>\n",
       "      <th>Bonus</th>\n",
       "      <td>-0.02</td>\n",
       "      <td>0.20</td>\n",
       "      <td>1.00</td>\n",
       "      <td>1.00</td>\n",
       "      <td>1.00</td>\n",
       "      <td>0.81</td>\n",
       "      <td>-0.39</td>\n",
       "      <td>0.30</td>\n",
       "      <td>0.35</td>\n",
       "      <td>1.00</td>\n",
       "      <td>1.00</td>\n",
       "      <td>1.00</td>\n",
       "      <td>0.60</td>\n",
       "    </tr>\n",
       "    <tr>\n",
       "      <th>Unit_Price</th>\n",
       "      <td>-0.02</td>\n",
       "      <td>0.13</td>\n",
       "      <td>0.81</td>\n",
       "      <td>0.81</td>\n",
       "      <td>0.81</td>\n",
       "      <td>1.00</td>\n",
       "      <td>-0.32</td>\n",
       "      <td>0.17</td>\n",
       "      <td>0.26</td>\n",
       "      <td>0.81</td>\n",
       "      <td>0.81</td>\n",
       "      <td>0.81</td>\n",
       "      <td>0.55</td>\n",
       "    </tr>\n",
       "    <tr>\n",
       "      <th>Volume</th>\n",
       "      <td>-0.00</td>\n",
       "      <td>-0.04</td>\n",
       "      <td>-0.39</td>\n",
       "      <td>-0.39</td>\n",
       "      <td>-0.39</td>\n",
       "      <td>-0.32</td>\n",
       "      <td>1.00</td>\n",
       "      <td>-0.02</td>\n",
       "      <td>-0.15</td>\n",
       "      <td>-0.39</td>\n",
       "      <td>-0.39</td>\n",
       "      <td>-0.39</td>\n",
       "      <td>-0.26</td>\n",
       "    </tr>\n",
       "    <tr>\n",
       "      <th>openingbalance</th>\n",
       "      <td>0.00</td>\n",
       "      <td>0.07</td>\n",
       "      <td>0.30</td>\n",
       "      <td>0.29</td>\n",
       "      <td>0.30</td>\n",
       "      <td>0.17</td>\n",
       "      <td>-0.02</td>\n",
       "      <td>1.00</td>\n",
       "      <td>0.29</td>\n",
       "      <td>0.30</td>\n",
       "      <td>0.30</td>\n",
       "      <td>0.30</td>\n",
       "      <td>-0.00</td>\n",
       "    </tr>\n",
       "    <tr>\n",
       "      <th>closingbalance</th>\n",
       "      <td>-0.01</td>\n",
       "      <td>0.44</td>\n",
       "      <td>0.35</td>\n",
       "      <td>0.34</td>\n",
       "      <td>0.35</td>\n",
       "      <td>0.26</td>\n",
       "      <td>-0.15</td>\n",
       "      <td>0.29</td>\n",
       "      <td>1.00</td>\n",
       "      <td>0.35</td>\n",
       "      <td>0.35</td>\n",
       "      <td>0.34</td>\n",
       "      <td>0.37</td>\n",
       "    </tr>\n",
       "    <tr>\n",
       "      <th>low</th>\n",
       "      <td>-0.02</td>\n",
       "      <td>0.20</td>\n",
       "      <td>1.00</td>\n",
       "      <td>1.00</td>\n",
       "      <td>1.00</td>\n",
       "      <td>0.81</td>\n",
       "      <td>-0.39</td>\n",
       "      <td>0.30</td>\n",
       "      <td>0.35</td>\n",
       "      <td>1.00</td>\n",
       "      <td>1.00</td>\n",
       "      <td>1.00</td>\n",
       "      <td>0.60</td>\n",
       "    </tr>\n",
       "    <tr>\n",
       "      <th>Unit_Sales</th>\n",
       "      <td>-0.02</td>\n",
       "      <td>0.20</td>\n",
       "      <td>1.00</td>\n",
       "      <td>1.00</td>\n",
       "      <td>1.00</td>\n",
       "      <td>0.81</td>\n",
       "      <td>-0.39</td>\n",
       "      <td>0.30</td>\n",
       "      <td>0.35</td>\n",
       "      <td>1.00</td>\n",
       "      <td>1.00</td>\n",
       "      <td>1.00</td>\n",
       "      <td>0.60</td>\n",
       "    </tr>\n",
       "    <tr>\n",
       "      <th>Total_Sales</th>\n",
       "      <td>-0.02</td>\n",
       "      <td>0.20</td>\n",
       "      <td>1.00</td>\n",
       "      <td>1.00</td>\n",
       "      <td>1.00</td>\n",
       "      <td>0.81</td>\n",
       "      <td>-0.39</td>\n",
       "      <td>0.30</td>\n",
       "      <td>0.34</td>\n",
       "      <td>1.00</td>\n",
       "      <td>1.00</td>\n",
       "      <td>1.00</td>\n",
       "      <td>0.60</td>\n",
       "    </tr>\n",
       "    <tr>\n",
       "      <th>Months</th>\n",
       "      <td>-0.01</td>\n",
       "      <td>0.22</td>\n",
       "      <td>0.60</td>\n",
       "      <td>0.60</td>\n",
       "      <td>0.60</td>\n",
       "      <td>0.55</td>\n",
       "      <td>-0.26</td>\n",
       "      <td>-0.00</td>\n",
       "      <td>0.37</td>\n",
       "      <td>0.60</td>\n",
       "      <td>0.60</td>\n",
       "      <td>0.60</td>\n",
       "      <td>1.00</td>\n",
       "    </tr>\n",
       "  </tbody>\n",
       "</table>\n",
       "</div>"
      ],
      "text/plain": [
       "                Business   Age  Salary  Base_pay  Bonus  Unit_Price  Volume  \\\n",
       "Business            1.00 -0.01   -0.02     -0.02  -0.02       -0.02   -0.00   \n",
       "Age                -0.01  1.00    0.20      0.19   0.20        0.13   -0.04   \n",
       "Salary             -0.02  0.20    1.00      1.00   1.00        0.81   -0.39   \n",
       "Base_pay           -0.02  0.19    1.00      1.00   1.00        0.81   -0.39   \n",
       "Bonus              -0.02  0.20    1.00      1.00   1.00        0.81   -0.39   \n",
       "Unit_Price         -0.02  0.13    0.81      0.81   0.81        1.00   -0.32   \n",
       "Volume             -0.00 -0.04   -0.39     -0.39  -0.39       -0.32    1.00   \n",
       "openingbalance      0.00  0.07    0.30      0.29   0.30        0.17   -0.02   \n",
       "closingbalance     -0.01  0.44    0.35      0.34   0.35        0.26   -0.15   \n",
       "low                -0.02  0.20    1.00      1.00   1.00        0.81   -0.39   \n",
       "Unit_Sales         -0.02  0.20    1.00      1.00   1.00        0.81   -0.39   \n",
       "Total_Sales        -0.02  0.20    1.00      1.00   1.00        0.81   -0.39   \n",
       "Months             -0.01  0.22    0.60      0.60   0.60        0.55   -0.26   \n",
       "\n",
       "                openingbalance  closingbalance   low  Unit_Sales  Total_Sales  \\\n",
       "Business                  0.00           -0.01 -0.02       -0.02        -0.02   \n",
       "Age                       0.07            0.44  0.20        0.20         0.20   \n",
       "Salary                    0.30            0.35  1.00        1.00         1.00   \n",
       "Base_pay                  0.29            0.34  1.00        1.00         1.00   \n",
       "Bonus                     0.30            0.35  1.00        1.00         1.00   \n",
       "Unit_Price                0.17            0.26  0.81        0.81         0.81   \n",
       "Volume                   -0.02           -0.15 -0.39       -0.39        -0.39   \n",
       "openingbalance            1.00            0.29  0.30        0.30         0.30   \n",
       "closingbalance            0.29            1.00  0.35        0.35         0.34   \n",
       "low                       0.30            0.35  1.00        1.00         1.00   \n",
       "Unit_Sales                0.30            0.35  1.00        1.00         1.00   \n",
       "Total_Sales               0.30            0.34  1.00        1.00         1.00   \n",
       "Months                   -0.00            0.37  0.60        0.60         0.60   \n",
       "\n",
       "                Months  \n",
       "Business         -0.01  \n",
       "Age               0.22  \n",
       "Salary            0.60  \n",
       "Base_pay          0.60  \n",
       "Bonus             0.60  \n",
       "Unit_Price        0.55  \n",
       "Volume           -0.26  \n",
       "openingbalance   -0.00  \n",
       "closingbalance    0.37  \n",
       "low               0.60  \n",
       "Unit_Sales        0.60  \n",
       "Total_Sales       0.60  \n",
       "Months            1.00  "
      ]
     },
     "execution_count": 110,
     "metadata": {},
     "output_type": "execute_result"
    }
   ],
   "source": [
    "corr"
   ]
  },
  {
   "cell_type": "code",
   "execution_count": 111,
   "id": "240d11d4",
   "metadata": {},
   "outputs": [
    {
     "data": {
      "text/plain": [
       "Text(0.5, 1.0, \" Heatmap using Spearman's correlation\")"
      ]
     },
     "execution_count": 111,
     "metadata": {},
     "output_type": "execute_result"
    },
    {
     "data": {
      "image/png": "[encoded data removed]",
      "text/plain": [
       "<Figure size 720x360 with 2 Axes>"
      ]
     },
     "metadata": {
      "needs_background": "light"
     },
     "output_type": "display_data"
    }
   ],
   "source": [
    "plt.figure(figsize = (10,5))\n",
    "sns.heatmap(corr,annot =True)\n",
    "plt.title(\" Heatmap using Spearman's correlation\")"
   ]
  },
  {
   "cell_type": "markdown",
   "id": "64d9e732",
   "metadata": {},
   "source": [
    "#### from the above result, we can say that form the spearman  rank correlation, we can say that salary is highly correlated with basepay,unitsales,totalsales and low are highly correlated with salary"
   ]
  },
  {
   "cell_type": "code",
   "execution_count": null,
   "id": "0f8d065d",
   "metadata": {},
   "outputs": [],
   "source": []
  },
  {
   "cell_type": "markdown",
   "id": "abc1de10",
   "metadata": {},
   "source": [
    "## 4)Examining the relationship between categorical variables and the dependent variable"
   ]
  },
  {
   "cell_type": "markdown",
   "id": "cfbba798",
   "metadata": {},
   "source": [
    "there are \"8\" categorical variables in our dataset  Gender, Business, Dependancies, Calls, Type, Billing, Rating, Education."
   ]
  },
  {
   "cell_type": "code",
   "execution_count": 113,
   "id": "a713ffa7",
   "metadata": {},
   "outputs": [
    {
     "data": {
      "text/plain": [
       "<AxesSubplot:xlabel='Gender', ylabel='Salary'>"
      ]
     },
     "execution_count": 113,
     "metadata": {},
     "output_type": "execute_result"
    },
    {
     "data": {
      "image/png": "[encoded data removed]",
      "text/plain": [
       "<Figure size 432x288 with 1 Axes>"
      ]
     },
     "metadata": {
      "needs_background": "light"
     },
     "output_type": "display_data"
    }
   ],
   "source": [
    "# creating boxplot\n",
    "sns.boxplot(x='Gender',y='Salary',data=df,showmeans=True)"
   ]
  },
  {
   "cell_type": "markdown",
   "id": "e27e435b",
   "metadata": {},
   "source": [
    "#### The mean and median value are the same for the male and females"
   ]
  },
  {
   "cell_type": "code",
   "execution_count": 114,
   "id": "13b93182",
   "metadata": {},
   "outputs": [
    {
     "data": {
      "text/plain": [
       "<AxesSubplot:xlabel='Type', ylabel='Salary'>"
      ]
     },
     "execution_count": 114,
     "metadata": {},
     "output_type": "execute_result"
    },
    {
     "data": {
      "image/png": "[encoded data removed]",
      "text/plain": [
       "<Figure size 432x288 with 1 Axes>"
      ]
     },
     "metadata": {
      "needs_background": "light"
     },
     "output_type": "display_data"
    }
   ],
   "source": [
    "sns.boxplot(x='Type',y='Salary',data=df,showmeans=True)"
   ]
  },
  {
   "cell_type": "code",
   "execution_count": 115,
   "id": "c3c92671",
   "metadata": {},
   "outputs": [
    {
     "data": {
      "text/plain": [
       "<AxesSubplot:xlabel='Business', ylabel='Salary'>"
      ]
     },
     "execution_count": 115,
     "metadata": {},
     "output_type": "execute_result"
    },
    {
     "data": {
      "image/png": "[encoded data removed]",
      "text/plain": [
       "<Figure size 432x288 with 1 Axes>"
      ]
     },
     "metadata": {
      "needs_background": "light"
     },
     "output_type": "display_data"
    }
   ],
   "source": [
    "sns.boxplot(x='Business',y='Salary',data=df,showmeans=True)"
   ]
  },
  {
   "cell_type": "code",
   "execution_count": 116,
   "id": "273f4444",
   "metadata": {},
   "outputs": [
    {
     "data": {
      "text/plain": [
       "<AxesSubplot:xlabel='Education', ylabel='Salary'>"
      ]
     },
     "execution_count": 116,
     "metadata": {},
     "output_type": "execute_result"
    },
    {
     "data": {
      "image/png": "[encoded data removed]",
      "text/plain": [
       "<Figure size 432x288 with 1 Axes>"
      ]
     },
     "metadata": {
      "needs_background": "light"
     },
     "output_type": "display_data"
    }
   ],
   "source": [
    "sns.boxplot(x='Education',y='Salary',data=df,showmeans=True)"
   ]
  },
  {
   "cell_type": "markdown",
   "id": "84fae9b8",
   "metadata": {},
   "source": [
    "#### from the above output, Education does affect on salary. those who have done PG get high salary followed by Graduation then intermediate and high school or less"
   ]
  },
  {
   "cell_type": "code",
   "execution_count": 117,
   "id": "8a27a2aa",
   "metadata": {},
   "outputs": [
    {
     "data": {
      "text/plain": [
       "<AxesSubplot:xlabel='Rating', ylabel='Salary'>"
      ]
     },
     "execution_count": 117,
     "metadata": {},
     "output_type": "execute_result"
    },
    {
     "data": {
      "image/png": "[encoded data removed]",
      "text/plain": [
       "<Figure size 432x288 with 1 Axes>"
      ]
     },
     "metadata": {
      "needs_background": "light"
     },
     "output_type": "display_data"
    }
   ],
   "source": [
    "sns.boxplot(x='Rating',y='Salary',data=df,showmeans=True)"
   ]
  },
  {
   "cell_type": "markdown",
   "id": "57350da0",
   "metadata": {},
   "source": [
    "####  Here Rating doesn't affect salary"
   ]
  },
  {
   "cell_type": "code",
   "execution_count": null,
   "id": "9cb0912d",
   "metadata": {},
   "outputs": [],
   "source": []
  },
  {
   "cell_type": "markdown",
   "id": "0a91e8a5",
   "metadata": {},
   "source": [
    "#### converting some variables into Numerical Form"
   ]
  },
  {
   "cell_type": "code",
   "execution_count": 121,
   "id": "fffd8d7a",
   "metadata": {},
   "outputs": [],
   "source": [
    "# Gender column\n",
    "df['Gender'].replace({'Male':0,'Female':1},inplace = True)"
   ]
  },
  {
   "cell_type": "code",
   "execution_count": 122,
   "id": "3019c8cd",
   "metadata": {},
   "outputs": [],
   "source": [
    "df['Dependancies'].replace({'No':0,'Yes':1},inplace = True)"
   ]
  },
  {
   "cell_type": "code",
   "execution_count": 123,
   "id": "6db44424",
   "metadata": {},
   "outputs": [],
   "source": [
    "df['Calls'].replace({'No':0,'Yes':1},inplace = True)"
   ]
  },
  {
   "cell_type": "code",
   "execution_count": 124,
   "id": "019df912",
   "metadata": {},
   "outputs": [],
   "source": [
    "df['Type'].replace({'Month-to-month':0,'One year':1,'Two year':2},inplace = True)"
   ]
  },
  {
   "cell_type": "code",
   "execution_count": 125,
   "id": "0e53ac5e",
   "metadata": {},
   "outputs": [],
   "source": [
    "df['Billing'].replace({'No':0,'Yes':1},inplace = True)"
   ]
  },
  {
   "cell_type": "code",
   "execution_count": 126,
   "id": "4aefb1ec",
   "metadata": {},
   "outputs": [],
   "source": [
    "df['Rating'].replace({'No':0,'Yes':1},inplace = True)"
   ]
  },
  {
   "cell_type": "code",
   "execution_count": 127,
   "id": "2bfcdff1",
   "metadata": {},
   "outputs": [],
   "source": [
    "df['Education'].replace({'High School or less':0,'Intermediate':1,'Graduation':2,'PG':3},inplace = True)"
   ]
  },
  {
   "cell_type": "code",
   "execution_count": 128,
   "id": "035bcbc0",
   "metadata": {},
   "outputs": [
    {
     "data": {
      "text/html": [
       "<div>\n",
       "<style scoped>\n",
       "    .dataframe tbody tr th:only-of-type {\n",
       "        vertical-align: middle;\n",
       "    }\n",
       "\n",
       "    .dataframe tbody tr th {\n",
       "        vertical-align: top;\n",
       "    }\n",
       "\n",
       "    .dataframe thead th {\n",
       "        text-align: right;\n",
       "    }\n",
       "</style>\n",
       "<table border=\"1\" class=\"dataframe\">\n",
       "  <thead>\n",
       "    <tr style=\"text-align: right;\">\n",
       "      <th></th>\n",
       "      <th>Gender</th>\n",
       "      <th>Business</th>\n",
       "      <th>Dependancies</th>\n",
       "      <th>Calls</th>\n",
       "      <th>Type</th>\n",
       "      <th>Billing</th>\n",
       "      <th>Rating</th>\n",
       "      <th>Age</th>\n",
       "      <th>Salary</th>\n",
       "      <th>Base_pay</th>\n",
       "      <th>Bonus</th>\n",
       "      <th>Unit_Price</th>\n",
       "      <th>Volume</th>\n",
       "      <th>openingbalance</th>\n",
       "      <th>closingbalance</th>\n",
       "      <th>low</th>\n",
       "      <th>Unit_Sales</th>\n",
       "      <th>Total_Sales</th>\n",
       "      <th>Months</th>\n",
       "      <th>Education</th>\n",
       "    </tr>\n",
       "  </thead>\n",
       "  <tbody>\n",
       "    <tr>\n",
       "      <th>0</th>\n",
       "      <td>1</td>\n",
       "      <td>0</td>\n",
       "      <td>0</td>\n",
       "      <td>1</td>\n",
       "      <td>0</td>\n",
       "      <td>0</td>\n",
       "      <td>1</td>\n",
       "      <td>18</td>\n",
       "      <td>5089.00</td>\n",
       "      <td>2035.600</td>\n",
       "      <td>254.4500</td>\n",
       "      <td>1.327075</td>\n",
       "      <td>21226600</td>\n",
       "      <td>1.321756</td>\n",
       "      <td>1.324419</td>\n",
       "      <td>1.294727</td>\n",
       "      <td>2.904165</td>\n",
       "      <td>2.933857</td>\n",
       "      <td>0</td>\n",
       "      <td>0</td>\n",
       "    </tr>\n",
       "    <tr>\n",
       "      <th>1</th>\n",
       "      <td>1</td>\n",
       "      <td>0</td>\n",
       "      <td>0</td>\n",
       "      <td>1</td>\n",
       "      <td>0</td>\n",
       "      <td>0</td>\n",
       "      <td>1</td>\n",
       "      <td>19</td>\n",
       "      <td>5698.12</td>\n",
       "      <td>2279.248</td>\n",
       "      <td>284.9060</td>\n",
       "      <td>1.319086</td>\n",
       "      <td>10462800</td>\n",
       "      <td>1.348073</td>\n",
       "      <td>1.302913</td>\n",
       "      <td>1.294727</td>\n",
       "      <td>2.912351</td>\n",
       "      <td>2.936513</td>\n",
       "      <td>0</td>\n",
       "      <td>0</td>\n",
       "    </tr>\n",
       "    <tr>\n",
       "      <th>2</th>\n",
       "      <td>0</td>\n",
       "      <td>0</td>\n",
       "      <td>0</td>\n",
       "      <td>1</td>\n",
       "      <td>0</td>\n",
       "      <td>1</td>\n",
       "      <td>0</td>\n",
       "      <td>22</td>\n",
       "      <td>5896.65</td>\n",
       "      <td>2358.660</td>\n",
       "      <td>294.8325</td>\n",
       "      <td>1.358409</td>\n",
       "      <td>18761000</td>\n",
       "      <td>1.442202</td>\n",
       "      <td>1.456287</td>\n",
       "      <td>1.313724</td>\n",
       "      <td>2.928524</td>\n",
       "      <td>2.939162</td>\n",
       "      <td>0</td>\n",
       "      <td>0</td>\n",
       "    </tr>\n",
       "    <tr>\n",
       "      <th>3</th>\n",
       "      <td>1</td>\n",
       "      <td>1</td>\n",
       "      <td>0</td>\n",
       "      <td>1</td>\n",
       "      <td>0</td>\n",
       "      <td>1</td>\n",
       "      <td>1</td>\n",
       "      <td>21</td>\n",
       "      <td>6125.12</td>\n",
       "      <td>2450.048</td>\n",
       "      <td>306.2560</td>\n",
       "      <td>1.470176</td>\n",
       "      <td>66130600</td>\n",
       "      <td>1.449269</td>\n",
       "      <td>1.460938</td>\n",
       "      <td>1.342865</td>\n",
       "      <td>2.931194</td>\n",
       "      <td>2.944439</td>\n",
       "      <td>0</td>\n",
       "      <td>0</td>\n",
       "    </tr>\n",
       "    <tr>\n",
       "      <th>4</th>\n",
       "      <td>0</td>\n",
       "      <td>0</td>\n",
       "      <td>0</td>\n",
       "      <td>1</td>\n",
       "      <td>0</td>\n",
       "      <td>1</td>\n",
       "      <td>1</td>\n",
       "      <td>23</td>\n",
       "      <td>6245.00</td>\n",
       "      <td>2498.000</td>\n",
       "      <td>312.2500</td>\n",
       "      <td>1.467874</td>\n",
       "      <td>26868200</td>\n",
       "      <td>1.566530</td>\n",
       "      <td>1.483875</td>\n",
       "      <td>1.406097</td>\n",
       "      <td>2.933857</td>\n",
       "      <td>2.947067</td>\n",
       "      <td>1</td>\n",
       "      <td>0</td>\n",
       "    </tr>\n",
       "  </tbody>\n",
       "</table>\n",
       "</div>"
      ],
      "text/plain": [
       "   Gender  Business  Dependancies  Calls  Type  Billing  Rating  Age   Salary  \\\n",
       "0       1         0             0      1     0        0       1   18  5089.00   \n",
       "1       1         0             0      1     0        0       1   19  5698.12   \n",
       "2       0         0             0      1     0        1       0   22  5896.65   \n",
       "3       1         1             0      1     0        1       1   21  6125.12   \n",
       "4       0         0             0      1     0        1       1   23  6245.00   \n",
       "\n",
       "   Base_pay     Bonus  Unit_Price    Volume  openingbalance  closingbalance  \\\n",
       "0  2035.600  254.4500    1.327075  21226600        1.321756        1.324419   \n",
       "1  2279.248  284.9060    1.319086  10462800        1.348073        1.302913   \n",
       "2  2358.660  294.8325    1.358409  18761000        1.442202        1.456287   \n",
       "3  2450.048  306.2560    1.470176  66130600        1.449269        1.460938   \n",
       "4  2498.000  312.2500    1.467874  26868200        1.566530        1.483875   \n",
       "\n",
       "        low  Unit_Sales  Total_Sales  Months  Education  \n",
       "0  1.294727    2.904165     2.933857       0          0  \n",
       "1  1.294727    2.912351     2.936513       0          0  \n",
       "2  1.313724    2.928524     2.939162       0          0  \n",
       "3  1.342865    2.931194     2.944439       0          0  \n",
       "4  1.406097    2.933857     2.947067       1          0  "
      ]
     },
     "execution_count": 128,
     "metadata": {},
     "output_type": "execute_result"
    }
   ],
   "source": [
    "df.head()"
   ]
  },
  {
   "cell_type": "code",
   "execution_count": 129,
   "id": "cf460498",
   "metadata": {},
   "outputs": [
    {
     "data": {
      "text/plain": [
       "Gender               0\n",
       "Business             0\n",
       "Dependancies         0\n",
       "Calls                0\n",
       "Type                 0\n",
       "Billing              0\n",
       "Rating               0\n",
       "Age                  0\n",
       "Salary               0\n",
       "Base_pay            23\n",
       "Bonus                0\n",
       "Unit_Price           0\n",
       "Volume               0\n",
       "openingbalance    1476\n",
       "closingbalance       0\n",
       "low                  0\n",
       "Unit_Sales           0\n",
       "Total_Sales         16\n",
       "Months               0\n",
       "Education            0\n",
       "dtype: int64"
      ]
     },
     "execution_count": 129,
     "metadata": {},
     "output_type": "execute_result"
    }
   ],
   "source": [
    "df.isnull().sum()"
   ]
  },
  {
   "cell_type": "code",
   "execution_count": 130,
   "id": "00708def",
   "metadata": {},
   "outputs": [],
   "source": [
    "# filling the NaN values\n",
    "df['Base_pay'] = df['Base_pay'].replace(np.nan, 0)"
   ]
  },
  {
   "cell_type": "code",
   "execution_count": 131,
   "id": "ea85b0b2",
   "metadata": {},
   "outputs": [],
   "source": [
    "df['openingbalance'] = df['openingbalance'].replace(np.nan, 0)"
   ]
  },
  {
   "cell_type": "code",
   "execution_count": 132,
   "id": "7f3a5d80",
   "metadata": {},
   "outputs": [],
   "source": [
    "df['Total_Sales'] = df['Total_Sales'].replace(np.nan, 0)"
   ]
  },
  {
   "cell_type": "code",
   "execution_count": 133,
   "id": "185afe92",
   "metadata": {},
   "outputs": [
    {
     "data": {
      "text/plain": [
       "0"
      ]
     },
     "execution_count": 133,
     "metadata": {},
     "output_type": "execute_result"
    }
   ],
   "source": [
    "df.isnull().sum().sum()"
   ]
  },
  {
   "cell_type": "code",
   "execution_count": null,
   "id": "8b95e4d5",
   "metadata": {},
   "outputs": [],
   "source": []
  },
  {
   "cell_type": "markdown",
   "id": "a73779c7",
   "metadata": {},
   "source": [
    "## 5)Feature Selection for ML Algorithm"
   ]
  },
  {
   "cell_type": "code",
   "execution_count": 136,
   "id": "494fd137",
   "metadata": {},
   "outputs": [],
   "source": [
    "from sklearn.model_selection import train_test_split\n",
    "x_train,x_test,y_train,y_test = train_test_split(df.drop(labels=['Salary'], axis=1),df['Salary'],test_size=0.3,random_state=0)"
   ]
  },
  {
   "cell_type": "code",
   "execution_count": 137,
   "id": "88aff0f4",
   "metadata": {},
   "outputs": [],
   "source": [
    "from sklearn.feature_selection import mutual_info_regression\n",
    "# determining the mutual information\n",
    "mutual_info = mutual_info_regression(x_train,y_train)"
   ]
  },
  {
   "cell_type": "markdown",
   "id": "373b557b",
   "metadata": {},
   "source": [
    "#### what does mutual info regression do ?  ,It give mutual information between two random variables is a non-negative value, which measures the dependency between the variables. It is equal to zero if and only if two random variables are independent, and higher values mean higher dependency."
   ]
  },
  {
   "cell_type": "code",
   "execution_count": 139,
   "id": "621b0a64",
   "metadata": {},
   "outputs": [
    {
     "data": {
      "text/plain": [
       "Bonus             6.904258\n",
       "Base_pay          6.784393\n",
       "Total_Sales       6.152257\n",
       "Unit_Sales        5.702624\n",
       "low               4.306376\n",
       "Months            4.006215\n",
       "openingbalance    3.716850\n",
       "Unit_Price        3.578851\n",
       "closingbalance    3.418969\n",
       "Age               3.160779\n",
       "Education         0.677625\n",
       "Volume            0.299375\n",
       "Calls             0.000150\n",
       "Rating            0.000003\n",
       "Business          0.000000\n",
       "Billing           0.000000\n",
       "Type              0.000000\n",
       "Dependancies      0.000000\n",
       "Gender            0.000000\n",
       "dtype: float64"
      ]
     },
     "execution_count": 139,
     "metadata": {},
     "output_type": "execute_result"
    }
   ],
   "source": [
    "mutual_info = pd.Series(mutual_info)\n",
    "mutual_info.index = x_train.columns\n",
    "mutual_info.sort_values(ascending=False)"
   ]
  },
  {
   "cell_type": "code",
   "execution_count": 140,
   "id": "df331543",
   "metadata": {},
   "outputs": [],
   "source": [
    "# Removing the unwanted column\n",
    "df.drop(['Volume','Calls','Business','Billing','Type','Dependancies','Gender'],axis=1, inplace = True )"
   ]
  },
  {
   "cell_type": "code",
   "execution_count": 142,
   "id": "3a35bbc2",
   "metadata": {},
   "outputs": [
    {
     "data": {
      "text/html": [
       "<div>\n",
       "<style scoped>\n",
       "    .dataframe tbody tr th:only-of-type {\n",
       "        vertical-align: middle;\n",
       "    }\n",
       "\n",
       "    .dataframe tbody tr th {\n",
       "        vertical-align: top;\n",
       "    }\n",
       "\n",
       "    .dataframe thead th {\n",
       "        text-align: right;\n",
       "    }\n",
       "</style>\n",
       "<table border=\"1\" class=\"dataframe\">\n",
       "  <thead>\n",
       "    <tr style=\"text-align: right;\">\n",
       "      <th></th>\n",
       "      <th>Rating</th>\n",
       "      <th>Age</th>\n",
       "      <th>Salary</th>\n",
       "      <th>Base_pay</th>\n",
       "      <th>Bonus</th>\n",
       "      <th>Unit_Price</th>\n",
       "      <th>openingbalance</th>\n",
       "      <th>closingbalance</th>\n",
       "      <th>low</th>\n",
       "      <th>Unit_Sales</th>\n",
       "      <th>Total_Sales</th>\n",
       "      <th>Months</th>\n",
       "      <th>Education</th>\n",
       "    </tr>\n",
       "  </thead>\n",
       "  <tbody>\n",
       "    <tr>\n",
       "      <th>0</th>\n",
       "      <td>1</td>\n",
       "      <td>18</td>\n",
       "      <td>5089.0</td>\n",
       "      <td>2035.6</td>\n",
       "      <td>254.45</td>\n",
       "      <td>1.327075</td>\n",
       "      <td>1.321756</td>\n",
       "      <td>1.324419</td>\n",
       "      <td>1.294727</td>\n",
       "      <td>2.904165</td>\n",
       "      <td>2.933857</td>\n",
       "      <td>0</td>\n",
       "      <td>0</td>\n",
       "    </tr>\n",
       "  </tbody>\n",
       "</table>\n",
       "</div>"
      ],
      "text/plain": [
       "   Rating  Age  Salary  Base_pay   Bonus  Unit_Price  openingbalance  \\\n",
       "0       1   18  5089.0    2035.6  254.45    1.327075        1.321756   \n",
       "\n",
       "   closingbalance       low  Unit_Sales  Total_Sales  Months  Education  \n",
       "0        1.324419  1.294727    2.904165     2.933857       0          0  "
      ]
     },
     "execution_count": 142,
     "metadata": {},
     "output_type": "execute_result"
    }
   ],
   "source": [
    "# sanity check\n",
    "df.head(1)"
   ]
  },
  {
   "cell_type": "code",
   "execution_count": 143,
   "id": "3e2fcd91",
   "metadata": {},
   "outputs": [
    {
     "name": "stdout",
     "output_type": "stream",
     "text": [
      "<class 'pandas.core.frame.DataFrame'>\n",
      "RangeIndex: 5000 entries, 0 to 4999\n",
      "Data columns (total 13 columns):\n",
      " #   Column          Non-Null Count  Dtype  \n",
      "---  ------          --------------  -----  \n",
      " 0   Rating          5000 non-null   int64  \n",
      " 1   Age             5000 non-null   int64  \n",
      " 2   Salary          5000 non-null   float64\n",
      " 3   Base_pay        5000 non-null   float64\n",
      " 4   Bonus           5000 non-null   float64\n",
      " 5   Unit_Price      5000 non-null   float64\n",
      " 6   openingbalance  5000 non-null   float64\n",
      " 7   closingbalance  5000 non-null   float64\n",
      " 8   low             5000 non-null   float64\n",
      " 9   Unit_Sales      5000 non-null   float64\n",
      " 10  Total_Sales     5000 non-null   float64\n",
      " 11  Months          5000 non-null   int64  \n",
      " 12  Education       5000 non-null   int64  \n",
      "dtypes: float64(9), int64(4)\n",
      "memory usage: 507.9 KB\n"
     ]
    }
   ],
   "source": [
    "# checking the datatypes\n",
    "df.info()"
   ]
  },
  {
   "cell_type": "code",
   "execution_count": null,
   "id": "87187441",
   "metadata": {},
   "outputs": [],
   "source": []
  },
  {
   "cell_type": "code",
   "execution_count": null,
   "id": "2c3ab7a3",
   "metadata": {},
   "outputs": [],
   "source": []
  },
  {
   "cell_type": "markdown",
   "id": "a7cc5a83",
   "metadata": {},
   "source": [
    "## 6) Applying ML algorithm to the pre-processed columns"
   ]
  },
  {
   "cell_type": "code",
   "execution_count": 146,
   "id": "2f153eb2",
   "metadata": {},
   "outputs": [],
   "source": [
    "# splitting thr data into dependent and independent variables\n",
    "x=df.drop('Salary', axis =1) # independent variable\n",
    "y=df['Salary'] #dependent variable"
   ]
  },
  {
   "cell_type": "code",
   "execution_count": 147,
   "id": "061fbb4d",
   "metadata": {},
   "outputs": [],
   "source": [
    "# importing train test split\n",
    "from sklearn.model_selection import train_test_split"
   ]
  },
  {
   "cell_type": "code",
   "execution_count": 148,
   "id": "c3faa9d7",
   "metadata": {},
   "outputs": [],
   "source": [
    "x_train,x_test,y_train,y_test = train_test_split(x,y,test_size=0.3,random_state=0)\n",
    "# it mean 30% record goes to test set and rest goes to train set"
   ]
  },
  {
   "cell_type": "code",
   "execution_count": null,
   "id": "868806db",
   "metadata": {},
   "outputs": [],
   "source": []
  },
  {
   "cell_type": "markdown",
   "id": "f1a4d720",
   "metadata": {},
   "source": [
    "#### 1) Linear Regression"
   ]
  },
  {
   "cell_type": "code",
   "execution_count": 151,
   "id": "6516eeab",
   "metadata": {},
   "outputs": [
    {
     "data": {
      "text/plain": [
       "LinearRegression()"
      ]
     },
     "execution_count": 151,
     "metadata": {},
     "output_type": "execute_result"
    }
   ],
   "source": [
    "from sklearn import linear_model, metrics\n",
    "LR = linear_model.LinearRegression()\n",
    "LR.fit(x_train,y_train)  # fitting train data to linear regression model"
   ]
  },
  {
   "cell_type": "code",
   "execution_count": 153,
   "id": "10852b3e",
   "metadata": {},
   "outputs": [],
   "source": [
    "y_pred = LR.predict(x_test)  # predicting y values based on x_test"
   ]
  },
  {
   "cell_type": "code",
   "execution_count": 155,
   "id": "67db6e1d",
   "metadata": {},
   "outputs": [
    {
     "name": "stdout",
     "output_type": "stream",
     "text": [
      " Mean Squared Error : 1.2880712161276019e-11\n",
      "Root Mean Squared Error : 3.5889709056045605e-06\n",
      "Mean absolute Error : 2.6945652146726693e-06\n",
      "R square error associated with linear regression is : 1.0\n"
     ]
    }
   ],
   "source": [
    "# Evaluation of Linear Regression model based on mean square error, root mse , mae and r square values\n",
    "from sklearn.metrics import mean_squared_error, explained_variance_score,mean_absolute_error\n",
    "mse = mean_squared_error ( y_test, y_pred)\n",
    "print(' Mean Squared Error : {}'.format(mse))\n",
    "\n",
    "rmse =np.sqrt(mean_squared_error(y_test, y_pred))\n",
    "print('Root Mean Squared Error : {}'.format(rmse))\n",
    "\n",
    "mae = mean_absolute_error ( y_test, y_pred)\n",
    "print('Mean absolute Error : {}'.format(mae))\n",
    "\n",
    "r_square = metrics.r2_score (y_test,y_pred)\n",
    "print ('R square error associated with linear regression is :', r_square)"
   ]
  },
  {
   "cell_type": "code",
   "execution_count": null,
   "id": "d73e2df7",
   "metadata": {},
   "outputs": [],
   "source": []
  },
  {
   "cell_type": "markdown",
   "id": "88d89fc9",
   "metadata": {},
   "source": [
    "#### 2) decision Tree Algorithm"
   ]
  },
  {
   "cell_type": "code",
   "execution_count": 157,
   "id": "e7616974",
   "metadata": {},
   "outputs": [],
   "source": [
    "from sklearn.tree import DecisionTreeRegressor"
   ]
  },
  {
   "cell_type": "code",
   "execution_count": 158,
   "id": "457833a4",
   "metadata": {},
   "outputs": [],
   "source": [
    "DTR = DecisionTreeRegressor(random_state = 0)\n",
    "DTR.fit(x_train,y_train)  # fitting train data to Decision Tree regressor model\n",
    "y_pred = DTR.predict (x_test)"
   ]
  },
  {
   "cell_type": "code",
   "execution_count": 159,
   "id": "5adb81f6",
   "metadata": {},
   "outputs": [
    {
     "name": "stdout",
     "output_type": "stream",
     "text": [
      " Mean Squared Error : 49990.34983298267\n",
      "Root Mean Squared Error : 223.58521827925625\n",
      "Mean absolute Error : 49.72560819333332\n",
      "R square error associated with linear regression is : 0.999919707269245\n"
     ]
    }
   ],
   "source": [
    "# Evaluation of Decision Tree Regression model based on mean square error, root mse , mae and r square values\n",
    "DT_mse = mean_squared_error ( y_test, y_pred)\n",
    "print(' Mean Squared Error : {}'.format(DT_mse))\n",
    "\n",
    "DT_rmse =np.sqrt(mean_squared_error(y_test, y_pred))\n",
    "print('Root Mean Squared Error : {}'.format(DT_rmse))\n",
    "\n",
    "DT_mae = mean_absolute_error ( y_test, y_pred)\n",
    "print('Mean absolute Error : {}'.format(DT_mae))\n",
    "\n",
    "DT_r_square = metrics.r2_score (y_test,y_pred)\n",
    "print ('R square error associated with linear regression is :', DT_r_square)"
   ]
  },
  {
   "cell_type": "code",
   "execution_count": null,
   "id": "93ee6a98",
   "metadata": {},
   "outputs": [],
   "source": []
  },
  {
   "cell_type": "markdown",
   "id": "15bd3256",
   "metadata": {},
   "source": [
    "#### 3) Random Forest "
   ]
  },
  {
   "cell_type": "code",
   "execution_count": 162,
   "id": "51569f35",
   "metadata": {},
   "outputs": [],
   "source": [
    "from sklearn.ensemble import RandomForestRegressor"
   ]
  },
  {
   "cell_type": "code",
   "execution_count": 164,
   "id": "c0608c2f",
   "metadata": {},
   "outputs": [],
   "source": [
    "RFM = RandomForestRegressor(random_state = 0)\n",
    "RFM.fit(x_train,y_train)    # fitting train data to linear regression model\n",
    "y_pred = RFM.predict (x_test)"
   ]
  },
  {
   "cell_type": "code",
   "execution_count": 165,
   "id": "4722c78c",
   "metadata": {},
   "outputs": [
    {
     "name": "stdout",
     "output_type": "stream",
     "text": [
      " Mean Squared Error : 12532.4746829107\n",
      "Root Mean Squared Error : 111.94853586765082\n",
      "Mean absolute Error : 29.83563848848718\n",
      "R square error associated with linear regression is : 0.9999798707826856\n"
     ]
    }
   ],
   "source": [
    "# Evaluation of Random Forest Regression model based on mean square error, root mse , mae and r square values\n",
    "RFM_mse = mean_squared_error ( y_test, y_pred)\n",
    "print(' Mean Squared Error : {}'.format(RFM_mse))\n",
    "\n",
    "RFM_rmse =np.sqrt(mean_squared_error(y_test, y_pred))\n",
    "print('Root Mean Squared Error : {}'.format(RFM_rmse))\n",
    "\n",
    "RFM_mae = mean_absolute_error ( y_test, y_pred)\n",
    "print('Mean absolute Error : {}'.format(RFM_mae))\n",
    "\n",
    "RFM_r_square = metrics.r2_score (y_test,y_pred)\n",
    "print ('R square error associated with linear regression is :', RFM_r_square)"
   ]
  },
  {
   "cell_type": "code",
   "execution_count": null,
   "id": "5e293382",
   "metadata": {},
   "outputs": [],
   "source": []
  },
  {
   "cell_type": "markdown",
   "id": "b4796202",
   "metadata": {},
   "source": [
    "### Summary\n",
    "* we fill NAN values by replace function\n",
    "* we compare Gender vs Salary , we got to know that Males and Females doesn't affect salary\n",
    "* those who have Business and those who dont are equal numbers on the basis of salaries in Business vs salary graph\n",
    "* those who have done PG having more salary followed by Graduation, Intermediate and High School or less in Education vs Salary\n",
    "* Age,Salary,unitsales,basepay,months are normally distributed\n",
    "* form the spearman  rank correlation, we can say that salary is highly correlated with basepay,unitsales,totalsales and low\n",
    "* we apply Machine Learning Algorithm like Linear Regression, Decision Tree and random forest"
   ]
  },
  {
   "cell_type": "markdown",
   "id": "433aa71a",
   "metadata": {},
   "source": [
    "### conclusion\n",
    "* we perform Linear Regression, Decision Tree and Random Forest and all the model evaluation is near to 1 which means the prediction fits the data\n",
    "* I choose Decision Tree model because beacause it shows the best fit for my algorithm"
   ]
  },
  {
   "cell_type": "code",
   "execution_count": null,
   "id": "34d99322",
   "metadata": {},
   "outputs": [],
   "source": []
  },
  {
   "cell_type": "code",
   "execution_count": null,
   "id": "91f8baf0",
   "metadata": {},
   "outputs": [],
   "source": []
  },
  {
   "cell_type": "code",
   "execution_count": null,
   "id": "55d21e7f",
   "metadata": {},
   "outputs": [],
   "source": []
  }
 ],
 "metadata": {
  "kernelspec": {
   "display_name": "Python 3",
   "language": "python",
   "name": "python3"
  },
  "language_info": {
   "codemirror_mode": {
    "name": "ipython",
    "version": 3
   },
   "file_extension": ".py",
   "mimetype": "text/x-python",
   "name": "python",
   "nbconvert_exporter": "python",
   "pygments_lexer": "ipython3",
   "version": "3.8.8"
  }
 },
 "nbformat": 4,
 "nbformat_minor": 5
}
